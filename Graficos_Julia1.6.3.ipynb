{
 "cells": [
  {
   "cell_type": "code",
   "execution_count": 3,
   "id": "7c2ac195-2ee4-4fcf-aa64-5f44fcbdf0d4",
   "metadata": {},
   "outputs": [],
   "source": [
    "#~ ~ caso não tenha nenhum dos pacotes instalados:\n",
    "\n",
    "#import Pkg\n",
    "#Pkg.add(\"LinearAlgebra\")\n",
    "#Pkg.add(\"Plots\")\n",
    "#Pkg.add(\"LaTeXStrings\")\n",
    "\n",
    "#~ ~ ~ ~ ~ ~ ~  ~ ~ ~ ~\n",
    "\n",
    "using (LinearAlgebra)\n",
    "using (Plots)\n",
    "using (LaTeXStrings)\n",
    "\n",
    "t = range(0, 3, length=10000)\n",
    "\n",
    "k = 400 #N/m\n",
    "\n",
    "m = 2 #Kg\n",
    "\n",
    "b = 2 #Kg/s\n",
    "\n",
    "γ = b / 2* m\n",
    "\n",
    "ω₁ = sqrt(k/m - γ)\n",
    "\n",
    "s(t) = cos(ω₁ * t) * ℯ ^(-γ * t)\n",
    "\n",
    "plot(s, t, xlabel= L\"\\textrm{Tempo / s}\", ylabel= L\"\\textrm{Deslocamento / m}\", grid=:false, label= L\"x(t)\", lw=:2, framestyle=:box)\n",
    "\n",
    "savefig(\"oscilacao_amortecida.pdf\")\n",
    "\n",
    "plot(s, t, xlabel= L\"\\textrm{Tempo / s}\", ylabel= L\"\\textrm{Deslocamento / m}\", grid=:false, label= L\"x(t)\", lw=:2, framestyle=:box)\n",
    "plot!(t -> ℯ^(-γ * t), label= L\"+e ^{-\\gamma t}\", c=:red, l=:dash, lw=:1.5)\n",
    "plot!(t -> -ℯ^(-γ * t), label= L\"-e ^{-\\gamma t}\", c=:green, l=:dash, lw=:1.5)\n",
    "\n",
    "savefig(\"oscilacao_amortecida_envoltoria.pdf\")"
   ]
  },
  {
   "cell_type": "code",
   "execution_count": null,
   "id": "c1b13240-b0d9-4c6f-9818-11b353e2a071",
   "metadata": {},
   "outputs": [],
   "source": []
  }
 ],
 "metadata": {
  "kernelspec": {
   "display_name": "Julia 1.6.3",
   "language": "julia",
   "name": "julia-1.6"
  },
  "language_info": {
   "file_extension": ".jl",
   "mimetype": "application/julia",
   "name": "julia",
   "version": "1.6.3"
  }
 },
 "nbformat": 4,
 "nbformat_minor": 5
}
